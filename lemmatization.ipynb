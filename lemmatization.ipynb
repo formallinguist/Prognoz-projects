{
  "nbformat": 4,
  "nbformat_minor": 0,
  "metadata": {
    "colab": {
      "name": "lemmatization.ipynb",
      "provenance": [],
      "authorship_tag": "ABX9TyPj1RLD5C/XsssySVV8VfsN",
      "include_colab_link": true
    },
    "kernelspec": {
      "name": "python3",
      "display_name": "Python 3"
    },
    "language_info": {
      "name": "python"
    }
  },
  "cells": [
    {
      "cell_type": "markdown",
      "metadata": {
        "id": "view-in-github",
        "colab_type": "text"
      },
      "source": [
        "<a href=\"https://colab.research.google.com/github/formallinguist/formallinguist/blob/main/lemmatization.ipynb\" target=\"_parent\"><img src=\"https://colab.research.google.com/assets/colab-badge.svg\" alt=\"Open In Colab\"/></a>"
      ]
    },
    {
      "cell_type": "code",
      "metadata": {
        "id": "ojxEFXEQCTAN"
      },
      "source": [
        "import nltk"
      ],
      "execution_count": null,
      "outputs": []
    },
    {
      "cell_type": "code",
      "metadata": {
        "colab": {
          "base_uri": "https://localhost:8080/"
        },
        "id": "QFYwIadQCce0",
        "outputId": "a0bcfe6d-3614-45ed-af7b-988b76e8a7aa"
      },
      "source": [
        "nltk.download('popular')"
      ],
      "execution_count": null,
      "outputs": [
        {
          "output_type": "stream",
          "name": "stdout",
          "text": [
            "[nltk_data] Downloading collection 'popular'\n",
            "[nltk_data]    | \n",
            "[nltk_data]    | Downloading package cmudict to /root/nltk_data...\n",
            "[nltk_data]    |   Unzipping corpora/cmudict.zip.\n",
            "[nltk_data]    | Downloading package gazetteers to /root/nltk_data...\n",
            "[nltk_data]    |   Unzipping corpora/gazetteers.zip.\n",
            "[nltk_data]    | Downloading package genesis to /root/nltk_data...\n",
            "[nltk_data]    |   Unzipping corpora/genesis.zip.\n",
            "[nltk_data]    | Downloading package gutenberg to /root/nltk_data...\n",
            "[nltk_data]    |   Unzipping corpora/gutenberg.zip.\n",
            "[nltk_data]    | Downloading package inaugural to /root/nltk_data...\n",
            "[nltk_data]    |   Unzipping corpora/inaugural.zip.\n",
            "[nltk_data]    | Downloading package movie_reviews to\n",
            "[nltk_data]    |     /root/nltk_data...\n",
            "[nltk_data]    |   Unzipping corpora/movie_reviews.zip.\n",
            "[nltk_data]    | Downloading package names to /root/nltk_data...\n",
            "[nltk_data]    |   Unzipping corpora/names.zip.\n",
            "[nltk_data]    | Downloading package shakespeare to /root/nltk_data...\n",
            "[nltk_data]    |   Unzipping corpora/shakespeare.zip.\n",
            "[nltk_data]    | Downloading package stopwords to /root/nltk_data...\n",
            "[nltk_data]    |   Unzipping corpora/stopwords.zip.\n",
            "[nltk_data]    | Downloading package treebank to /root/nltk_data...\n",
            "[nltk_data]    |   Unzipping corpora/treebank.zip.\n",
            "[nltk_data]    | Downloading package twitter_samples to\n",
            "[nltk_data]    |     /root/nltk_data...\n",
            "[nltk_data]    |   Unzipping corpora/twitter_samples.zip.\n",
            "[nltk_data]    | Downloading package omw to /root/nltk_data...\n",
            "[nltk_data]    |   Unzipping corpora/omw.zip.\n",
            "[nltk_data]    | Downloading package wordnet to /root/nltk_data...\n",
            "[nltk_data]    |   Unzipping corpora/wordnet.zip.\n",
            "[nltk_data]    | Downloading package wordnet31 to /root/nltk_data...\n",
            "[nltk_data]    |   Unzipping corpora/wordnet31.zip.\n",
            "[nltk_data]    | Downloading package wordnet_ic to /root/nltk_data...\n",
            "[nltk_data]    |   Unzipping corpora/wordnet_ic.zip.\n",
            "[nltk_data]    | Downloading package words to /root/nltk_data...\n",
            "[nltk_data]    |   Unzipping corpora/words.zip.\n",
            "[nltk_data]    | Downloading package maxent_ne_chunker to\n",
            "[nltk_data]    |     /root/nltk_data...\n",
            "[nltk_data]    |   Unzipping chunkers/maxent_ne_chunker.zip.\n",
            "[nltk_data]    | Downloading package punkt to /root/nltk_data...\n",
            "[nltk_data]    |   Unzipping tokenizers/punkt.zip.\n",
            "[nltk_data]    | Downloading package snowball_data to\n",
            "[nltk_data]    |     /root/nltk_data...\n",
            "[nltk_data]    | Downloading package averaged_perceptron_tagger to\n",
            "[nltk_data]    |     /root/nltk_data...\n",
            "[nltk_data]    |   Unzipping taggers/averaged_perceptron_tagger.zip.\n",
            "[nltk_data]    | \n",
            "[nltk_data]  Done downloading collection popular\n"
          ]
        },
        {
          "output_type": "execute_result",
          "data": {
            "text/plain": [
              "True"
            ]
          },
          "metadata": {},
          "execution_count": 2
        }
      ]
    },
    {
      "cell_type": "code",
      "metadata": {
        "id": "5VUyUAidCpfO"
      },
      "source": [
        "paragraph ='''Certain exploration and excavation missions conducted by the Archaeological Department in and around the Keesaragutta temple have brought to light, a number of brick temples, cells and other structures encompassed by brick prakaram along with coins, beads, stucco figures, garbhapatra, pottery, and Brahmi label inscriptions datable to 4th and 5th centuries CE. On top of one of the rock-cut caves,\n",
        " an early Telugu label inscription reading as ‘Thulachuvanru’ can be noticed. \n",
        "On the basis of palaeography,\n",
        " the inscription is dated around the 4th to 5th centuries CE.[41]\n",
        "\n",
        "One of the first words in the Telugu language, \"Nagabu\", was found in a Sanskrit inscription of the 1st century BCE at Amaravathi (not to be confused with the newly planned city of Amaravati).[42][43] Telugu words were also found in the Dharmasila inscription of Emperor Ashoka. A number of Telugu words were found in the Sanskrit and Prakrit inscriptions of the Satavahanas, Vishnukundinas, and Ikshwakas.\n",
        "\n",
        "According to Telugu lore, its grammar has a prehistoric past. Sage Kanva was said to be the language's first grammarian. A. Rajeswara Sarma discussed the historicity and content of Kanva's grammar. He cited twenty grammatical aphorisms ascribed to Kanva, and concluded that Kanva wrote an ancient Telugu Grammar which was lost.[44]\n",
        "\n",
        "\n",
        "Telugu Talli Bomma (statue of Mother Telugu), the personification of Telugu language in Andhra Pradesh.\n",
        "The Bhattiprolu stone Buddhist casket in proto Telugu belongs to BCE 300,[37]: 232  the Erragudi Asokan Rock Edict in Proto Telugu belongs to 257 BCE (DC Sarkar’s Ashokan Studies, Calcutta 1979 pages 7–8), the Ghantasala Brahmin inscription[45] and the pillar inscription of Vijaya Satakarni, Vijayapuri, Nagarjunakonda etc., belongs to First Century CE. Further, Tummalagudem inscription of Vishnukundinas belongs to 5th Century CE. (Epigraphia Andhrika, Vol.ii pages 9 to 14).[46][47][48][49]'''"
      ],
      "execution_count": null,
      "outputs": []
    },
    {
      "cell_type": "code",
      "metadata": {
        "colab": {
          "base_uri": "https://localhost:8080/",
          "height": 170
        },
        "id": "1oJt6IoaDdqe",
        "outputId": "ff3ba47c-05d5-442d-f3f3-e3c90db48f67"
      },
      "source": [
        "paragraph\n"
      ],
      "execution_count": null,
      "outputs": [
        {
          "output_type": "execute_result",
          "data": {
            "application/vnd.google.colaboratory.intrinsic+json": {
              "type": "string"
            },
            "text/plain": [
              "'Certain exploration and excavation missions conducted by the Archaeological Department in and around the Keesaragutta temple have brought to light, a number of brick temples, cells and other structures encompassed by brick prakaram along with coins, beads, stucco figures, garbhapatra, pottery, and Brahmi label inscriptions datable to 4th and 5th centuries CE. On top of one of the rock-cut caves,\\n an early Telugu label inscription reading as ‘Thulachuvanru’ can be noticed. \\nOn the basis of palaeography,\\n the inscription is dated around the 4th to 5th centuries CE.[41]\\n\\nOne of the first words in the Telugu language, \"Nagabu\", was found in a Sanskrit inscription of the 1st century BCE at Amaravathi (not to be confused with the newly planned city of Amaravati).[42][43] Telugu words were also found in the Dharmasila inscription of Emperor Ashoka. A number of Telugu words were found in the Sanskrit and Prakrit inscriptions of the Satavahanas, Vishnukundinas, and Ikshwakas.\\n\\nAccording to Telugu lore, its grammar has a prehistoric past. Sage Kanva was said to be the language\\'s first grammarian. A. Rajeswara Sarma discussed the historicity and content of Kanva\\'s grammar. He cited twenty grammatical aphorisms ascribed to Kanva, and concluded that Kanva wrote an ancient Telugu Grammar which was lost.[44]\\n\\n\\nTelugu Talli Bomma (statue of Mother Telugu), the personification of Telugu language in Andhra Pradesh.\\nThe Bhattiprolu stone Buddhist casket in proto Telugu belongs to BCE 300,[37]:\\u200a232\\u200a the Erragudi Asokan Rock Edict in Proto Telugu belongs to 257 BCE (DC Sarkar’s Ashokan Studies, Calcutta 1979 pages 7–8), the Ghantasala Brahmin inscription[45] and the pillar inscription of Vijaya Satakarni, Vijayapuri, Nagarjunakonda etc., belongs to First Century CE. Further, Tummalagudem inscription of Vishnukundinas belongs to 5th Century CE. (Epigraphia Andhrika, Vol.ii pages 9 to 14).[46][47][48][49]'"
            ]
          },
          "metadata": {},
          "execution_count": 4
        }
      ]
    },
    {
      "cell_type": "code",
      "metadata": {
        "id": "pwSA2gTPDwLV"
      },
      "source": [
        "sentences = nltk.sent_tokenize(paragraph)"
      ],
      "execution_count": null,
      "outputs": []
    },
    {
      "cell_type": "code",
      "metadata": {
        "colab": {
          "base_uri": "https://localhost:8080/"
        },
        "id": "0cLTIAy4DplT",
        "outputId": "0683f3e6-c23a-4b6f-c44d-9e46fbacbc7a"
      },
      "source": [
        "sentences"
      ],
      "execution_count": null,
      "outputs": [
        {
          "output_type": "execute_result",
          "data": {
            "text/plain": [
              "['Certain exploration and excavation missions conducted by the Archaeological Department in and around the Keesaragutta temple have brought to light, a number of brick temples, cells and other structures encompassed by brick prakaram along with coins, beads, stucco figures, garbhapatra, pottery, and Brahmi label inscriptions datable to 4th and 5th centuries CE.',\n",
              " 'On top of one of the rock-cut caves,\\n an early Telugu label inscription reading as ‘Thulachuvanru’ can be noticed.',\n",
              " 'On the basis of palaeography,\\n the inscription is dated around the 4th to 5th centuries CE.',\n",
              " '[41]\\n\\nOne of the first words in the Telugu language, \"Nagabu\", was found in a Sanskrit inscription of the 1st century BCE at Amaravathi (not to be confused with the newly planned city of Amaravati).',\n",
              " '[42][43] Telugu words were also found in the Dharmasila inscription of Emperor Ashoka.',\n",
              " 'A number of Telugu words were found in the Sanskrit and Prakrit inscriptions of the Satavahanas, Vishnukundinas, and Ikshwakas.',\n",
              " 'According to Telugu lore, its grammar has a prehistoric past.',\n",
              " \"Sage Kanva was said to be the language's first grammarian.\",\n",
              " \"A. Rajeswara Sarma discussed the historicity and content of Kanva's grammar.\",\n",
              " 'He cited twenty grammatical aphorisms ascribed to Kanva, and concluded that Kanva wrote an ancient Telugu Grammar which was lost.',\n",
              " '[44]\\n\\n\\nTelugu Talli Bomma (statue of Mother Telugu), the personification of Telugu language in Andhra Pradesh.',\n",
              " 'The Bhattiprolu stone Buddhist casket in proto Telugu belongs to BCE 300,[37]:\\u200a232\\u200a the Erragudi Asokan Rock Edict in Proto Telugu belongs to 257 BCE (DC Sarkar’s Ashokan Studies, Calcutta 1979 pages 7–8), the Ghantasala Brahmin inscription[45] and the pillar inscription of Vijaya Satakarni, Vijayapuri, Nagarjunakonda etc., belongs to First Century CE.',\n",
              " 'Further, Tummalagudem inscription of Vishnukundinas belongs to 5th Century CE.',\n",
              " '(Epigraphia Andhrika, Vol.ii pages 9 to 14).',\n",
              " '[46][47][48][49]']"
            ]
          },
          "metadata": {},
          "execution_count": 7
        }
      ]
    },
    {
      "cell_type": "code",
      "metadata": {
        "colab": {
          "base_uri": "https://localhost:8080/"
        },
        "id": "TUaR5MXtIE9O",
        "outputId": "84bfd759-4370-4d2d-d405-03c83d4ee0b3"
      },
      "source": [
        "len(sentences)"
      ],
      "execution_count": null,
      "outputs": [
        {
          "output_type": "execute_result",
          "data": {
            "text/plain": [
              "15"
            ]
          },
          "metadata": {},
          "execution_count": 15
        }
      ]
    },
    {
      "cell_type": "code",
      "metadata": {
        "id": "qPBmAn44EPPd"
      },
      "source": [
        "word = nltk.word_tokenize(paragraph)"
      ],
      "execution_count": null,
      "outputs": []
    },
    {
      "cell_type": "code",
      "metadata": {
        "colab": {
          "base_uri": "https://localhost:8080/"
        },
        "id": "-1myr1R2Eexv",
        "outputId": "ec74ada9-c48d-464c-81fa-1c02bd5c3f1e"
      },
      "source": [
        "print(word)"
      ],
      "execution_count": null,
      "outputs": [
        {
          "output_type": "stream",
          "name": "stdout",
          "text": [
            "['Certain', 'exploration', 'and', 'excavation', 'missions', 'conducted', 'by', 'the', 'Archaeological', 'Department', 'in', 'and', 'around', 'the', 'Keesaragutta', 'temple', 'have', 'brought', 'to', 'light', ',', 'a', 'number', 'of', 'brick', 'temples', ',', 'cells', 'and', 'other', 'structures', 'encompassed', 'by', 'brick', 'prakaram', 'along', 'with', 'coins', ',', 'beads', ',', 'stucco', 'figures', ',', 'garbhapatra', ',', 'pottery', ',', 'and', 'Brahmi', 'label', 'inscriptions', 'datable', 'to', '4th', 'and', '5th', 'centuries', 'CE', '.', 'On', 'top', 'of', 'one', 'of', 'the', 'rock-cut', 'caves', ',', 'an', 'early', 'Telugu', 'label', 'inscription', 'reading', 'as', '‘', 'Thulachuvanru', '’', 'can', 'be', 'noticed', '.', 'On', 'the', 'basis', 'of', 'palaeography', ',', 'the', 'inscription', 'is', 'dated', 'around', 'the', '4th', 'to', '5th', 'centuries', 'CE', '.', '[', '41', ']', 'One', 'of', 'the', 'first', 'words', 'in', 'the', 'Telugu', 'language', ',', '``', 'Nagabu', \"''\", ',', 'was', 'found', 'in', 'a', 'Sanskrit', 'inscription', 'of', 'the', '1st', 'century', 'BCE', 'at', 'Amaravathi', '(', 'not', 'to', 'be', 'confused', 'with', 'the', 'newly', 'planned', 'city', 'of', 'Amaravati', ')', '.', '[', '42', ']', '[', '43', ']', 'Telugu', 'words', 'were', 'also', 'found', 'in', 'the', 'Dharmasila', 'inscription', 'of', 'Emperor', 'Ashoka', '.', 'A', 'number', 'of', 'Telugu', 'words', 'were', 'found', 'in', 'the', 'Sanskrit', 'and', 'Prakrit', 'inscriptions', 'of', 'the', 'Satavahanas', ',', 'Vishnukundinas', ',', 'and', 'Ikshwakas', '.', 'According', 'to', 'Telugu', 'lore', ',', 'its', 'grammar', 'has', 'a', 'prehistoric', 'past', '.', 'Sage', 'Kanva', 'was', 'said', 'to', 'be', 'the', 'language', \"'s\", 'first', 'grammarian', '.', 'A.', 'Rajeswara', 'Sarma', 'discussed', 'the', 'historicity', 'and', 'content', 'of', 'Kanva', \"'s\", 'grammar', '.', 'He', 'cited', 'twenty', 'grammatical', 'aphorisms', 'ascribed', 'to', 'Kanva', ',', 'and', 'concluded', 'that', 'Kanva', 'wrote', 'an', 'ancient', 'Telugu', 'Grammar', 'which', 'was', 'lost', '.', '[', '44', ']', 'Telugu', 'Talli', 'Bomma', '(', 'statue', 'of', 'Mother', 'Telugu', ')', ',', 'the', 'personification', 'of', 'Telugu', 'language', 'in', 'Andhra', 'Pradesh', '.', 'The', 'Bhattiprolu', 'stone', 'Buddhist', 'casket', 'in', 'proto', 'Telugu', 'belongs', 'to', 'BCE', '300', ',', '[', '37', ']', ':', '232', 'the', 'Erragudi', 'Asokan', 'Rock', 'Edict', 'in', 'Proto', 'Telugu', 'belongs', 'to', '257', 'BCE', '(', 'DC', 'Sarkar', '’', 's', 'Ashokan', 'Studies', ',', 'Calcutta', '1979', 'pages', '7–8', ')', ',', 'the', 'Ghantasala', 'Brahmin', 'inscription', '[', '45', ']', 'and', 'the', 'pillar', 'inscription', 'of', 'Vijaya', 'Satakarni', ',', 'Vijayapuri', ',', 'Nagarjunakonda', 'etc.', ',', 'belongs', 'to', 'First', 'Century', 'CE', '.', 'Further', ',', 'Tummalagudem', 'inscription', 'of', 'Vishnukundinas', 'belongs', 'to', '5th', 'Century', 'CE', '.', '(', 'Epigraphia', 'Andhrika', ',', 'Vol.ii', 'pages', '9', 'to', '14', ')', '.', '[', '46', ']', '[', '47', ']', '[', '48', ']', '[', '49', ']']\n"
          ]
        }
      ]
    },
    {
      "cell_type": "code",
      "metadata": {
        "id": "xmfhfiQKEzMZ"
      },
      "source": [
        "from nltk.stem import PorterStemmer"
      ],
      "execution_count": null,
      "outputs": []
    },
    {
      "cell_type": "code",
      "metadata": {
        "id": "W3IOqeXoFNj0"
      },
      "source": [
        "from nltk.corpus import stopwords"
      ],
      "execution_count": null,
      "outputs": []
    },
    {
      "cell_type": "code",
      "metadata": {
        "colab": {
          "base_uri": "https://localhost:8080/"
        },
        "id": "NRxZ8N8yFSHt",
        "outputId": "06322a42-357c-41e4-908a-3b63b333e539"
      },
      "source": [
        "print (stopwords.words('english'))"
      ],
      "execution_count": null,
      "outputs": [
        {
          "output_type": "stream",
          "name": "stdout",
          "text": [
            "['i', 'me', 'my', 'myself', 'we', 'our', 'ours', 'ourselves', 'you', \"you're\", \"you've\", \"you'll\", \"you'd\", 'your', 'yours', 'yourself', 'yourselves', 'he', 'him', 'his', 'himself', 'she', \"she's\", 'her', 'hers', 'herself', 'it', \"it's\", 'its', 'itself', 'they', 'them', 'their', 'theirs', 'themselves', 'what', 'which', 'who', 'whom', 'this', 'that', \"that'll\", 'these', 'those', 'am', 'is', 'are', 'was', 'were', 'be', 'been', 'being', 'have', 'has', 'had', 'having', 'do', 'does', 'did', 'doing', 'a', 'an', 'the', 'and', 'but', 'if', 'or', 'because', 'as', 'until', 'while', 'of', 'at', 'by', 'for', 'with', 'about', 'against', 'between', 'into', 'through', 'during', 'before', 'after', 'above', 'below', 'to', 'from', 'up', 'down', 'in', 'out', 'on', 'off', 'over', 'under', 'again', 'further', 'then', 'once', 'here', 'there', 'when', 'where', 'why', 'how', 'all', 'any', 'both', 'each', 'few', 'more', 'most', 'other', 'some', 'such', 'no', 'nor', 'not', 'only', 'own', 'same', 'so', 'than', 'too', 'very', 's', 't', 'can', 'will', 'just', 'don', \"don't\", 'should', \"should've\", 'now', 'd', 'll', 'm', 'o', 're', 've', 'y', 'ain', 'aren', \"aren't\", 'couldn', \"couldn't\", 'didn', \"didn't\", 'doesn', \"doesn't\", 'hadn', \"hadn't\", 'hasn', \"hasn't\", 'haven', \"haven't\", 'isn', \"isn't\", 'ma', 'mightn', \"mightn't\", 'mustn', \"mustn't\", 'needn', \"needn't\", 'shan', \"shan't\", 'shouldn', \"shouldn't\", 'wasn', \"wasn't\", 'weren', \"weren't\", 'won', \"won't\", 'wouldn', \"wouldn't\"]\n"
          ]
        }
      ]
    },
    {
      "cell_type": "code",
      "metadata": {
        "id": "Pes7Z3egINwq"
      },
      "source": [
        "stemmer = PorterStemmer()"
      ],
      "execution_count": null,
      "outputs": []
    },
    {
      "cell_type": "code",
      "metadata": {
        "id": "aYABnfFhF8bA"
      },
      "source": [
        "for i in range (len(sentences)):\n",
        "  words = nltk.word_tokenize(sentences[i])\n",
        "  words = [stemmer.stem(word)for word in words if word not in set(stopwords.words('english'))]\n",
        "  sentences[i] = ' '.join(words)"
      ],
      "execution_count": null,
      "outputs": []
    },
    {
      "cell_type": "code",
      "metadata": {
        "colab": {
          "base_uri": "https://localhost:8080/"
        },
        "id": "aBeZylKYIBSw",
        "outputId": "fa93d34d-72b8-44c2-c4d9-ca5a072a98df"
      },
      "source": [
        "sentences"
      ],
      "execution_count": null,
      "outputs": [
        {
          "output_type": "execute_result",
          "data": {
            "text/plain": [
              "['certain explor excav mission conduct archaeolog depart around keesaragutta templ brought light , number brick templ , cell structur encompass brick prakaram along coin , bead , stucco figur , garbhapatra , potteri , brahmi label inscript databl 4th 5th centuri CE .',\n",
              " 'On top one rock-cut cave , earli telugu label inscript read ‘ thulachuvanru ’ notic .',\n",
              " 'On basi palaeographi , inscript date around 4th 5th centuri CE .',\n",
              " \"[ 41 ] one first word telugu languag , `` nagabu '' , found sanskrit inscript 1st centuri bce amaravathi ( confus newli plan citi amaravati ) .\",\n",
              " '[ 42 ] [ 43 ] telugu word also found dharmasila inscript emperor ashoka .',\n",
              " 'A number telugu word found sanskrit prakrit inscript satavahana , vishnukundina , ikshwaka .',\n",
              " 'accord telugu lore , grammar prehistor past .',\n",
              " \"sage kanva said languag 's first grammarian .\",\n",
              " \"A. rajeswara sarma discuss histor content kanva 's grammar .\",\n",
              " 'He cite twenti grammat aphor ascrib kanva , conclud kanva wrote ancient telugu grammar lost .',\n",
              " '[ 44 ] telugu talli bomma ( statu mother telugu ) , personif telugu languag andhra pradesh .',\n",
              " 'the bhattiprolu stone buddhist casket proto telugu belong bce 300 , [ 37 ] : 232 erragudi asokan rock edict proto telugu belong 257 bce ( DC sarkar ’ ashokan studi , calcutta 1979 page 7–8 ) , ghantasala brahmin inscript [ 45 ] pillar inscript vijaya satakarni , vijayapuri , nagarjunakonda etc. , belong first centuri CE .',\n",
              " 'further , tummalagudem inscript vishnukundina belong 5th centuri CE .',\n",
              " '( epigraphia andhrika , vol.ii page 9 14 ) .',\n",
              " '[ 46 ] [ 47 ] [ 48 ] [ 49 ]']"
            ]
          },
          "metadata": {},
          "execution_count": 20
        }
      ]
    },
    {
      "cell_type": "code",
      "metadata": {
        "id": "YMAZlJVMIsJ9"
      },
      "source": [
        "from nltk.stem import WordNetLemmatizer"
      ],
      "execution_count": null,
      "outputs": []
    },
    {
      "cell_type": "code",
      "metadata": {
        "id": "U-a2nAtyI--d"
      },
      "source": [
        "lemmatizer = WordNetLemmatizer()"
      ],
      "execution_count": null,
      "outputs": []
    },
    {
      "cell_type": "code",
      "metadata": {
        "id": "apM0S_SDJUB6"
      },
      "source": [
        "for i in range(len(sentences)):\n",
        "  words= nltk.word_tokenize(sentences[i])\n",
        "  words=[lemmatizer.lemmatize(word)for word in words if word not in set(stopwords.words('english'))]\n",
        "  sentences[i] = ' '.join(words)"
      ],
      "execution_count": null,
      "outputs": []
    },
    {
      "cell_type": "code",
      "metadata": {
        "colab": {
          "base_uri": "https://localhost:8080/"
        },
        "id": "qolHfAauLf3h",
        "outputId": "c15e58e5-ba28-4deb-ce1c-042fe33c1c72"
      },
      "source": [
        "sentences"
      ],
      "execution_count": null,
      "outputs": [
        {
          "output_type": "execute_result",
          "data": {
            "text/plain": [
              "['certainexplorexcavmissionconductarchaeologdepartaroundkeesaraguttatemplbroughtlight , numberbricktempl , cellstructurencompassbrickprakaramalongcoin , bead , stuccofigur , garbhapatra , potteri , brahmilabelinscriptdatabl4th5thcenturiCE .',\n",
              " 'Ontoponerock-cutcave , earlitelugulabelinscriptread ‘ thulachuvanru ’ notic .',\n",
              " 'Onbasipalaeographi , inscriptdatearound4th5thcenturiCE .',\n",
              " \"[ 41 ] onefirstwordtelugulanguag , `` nagabu '' , foundsanskritinscript1stcenturibceamaravathi ( confusnewliplancitiamaravati ) .\",\n",
              " '[ 42 ] [ 43 ] teluguwordalsofounddharmasilainscriptemperorashoka .',\n",
              " 'Anumberteluguwordfoundsanskritprakritinscriptsatavahana , vishnukundina , ikshwaka .',\n",
              " 'accordtelugulore , grammarprehistorpast .',\n",
              " \"sagekanvasaidlanguag'sfirstgrammarian .\",\n",
              " \"A.rajeswarasarmadiscushistorcontentkanva'sgrammar .\",\n",
              " 'Hecitetwentigrammataphorascribkanva , concludkanvawroteancienttelugugrammarlost .',\n",
              " '[ 44 ] telugutallibomma ( statumothertelugu ) , personiftelugulanguagandhrapradesh .',\n",
              " 'bhattiprolustonebuddhistcasketprototelugubelongbce300 , [ 37 ] :232erragudiasokanrockedictprototelugubelong257bce ( DCsarkar ’ ashokanstudi , calcutta1979page7–8 ) , ghantasalabrahmininscript [ 45 ] pillarinscriptvijayasatakarni , vijayapuri , nagarjunakondaetc. , belongfirstcenturiCE .',\n",
              " ', tummalagudeminscriptvishnukundinabelong5thcenturiCE .',\n",
              " '( epigraphiaandhrika , vol.iipage914 ) .',\n",
              " '[ 46 ] [ 47 ] [ 48 ] [ 49 ]']"
            ]
          },
          "metadata": {},
          "execution_count": 35
        }
      ]
    },
    {
      "cell_type": "code",
      "metadata": {
        "id": "BBTlxr9bUtlw"
      },
      "source": [
        "import re"
      ],
      "execution_count": null,
      "outputs": []
    },
    {
      "cell_type": "code",
      "metadata": {
        "id": "LpNtei9CUsup"
      },
      "source": [
        "ps = PorterStemmer()"
      ],
      "execution_count": null,
      "outputs": []
    },
    {
      "cell_type": "code",
      "metadata": {
        "id": "Q2Mdwpc4VXmK"
      },
      "source": [
        "wordnet = WordNetLemmatizer()"
      ],
      "execution_count": null,
      "outputs": []
    },
    {
      "cell_type": "code",
      "metadata": {
        "id": "yEg96xqRVijw"
      },
      "source": [
        "sentences = nltk.sent_tokenize(paragraph)"
      ],
      "execution_count": null,
      "outputs": []
    },
    {
      "cell_type": "code",
      "metadata": {
        "id": "qoKfPAZNVzaV"
      },
      "source": [
        "corpus = []\n",
        "for i in range (len(sentences)):\n",
        "  review = re.sub('[^a-zA-Z]','',sentences[i])\n",
        "  review = review.lower()\n",
        "  review = review.split()\n",
        "  review = [wordnet.lemmatize(word)for word in review if not word in set(stopwords.words('english'))]\n",
        "  review = ' '.join(review)\n",
        "  corpus.append(review)"
      ],
      "execution_count": null,
      "outputs": []
    },
    {
      "cell_type": "code",
      "metadata": {
        "colab": {
          "base_uri": "https://localhost:8080/"
        },
        "id": "y9aWhWY8X8Si",
        "outputId": "816bcab6-4572-4cee-cf5c-9197b02c030b"
      },
      "source": [
        "corpus"
      ],
      "execution_count": null,
      "outputs": [
        {
          "output_type": "execute_result",
          "data": {
            "text/plain": [
              "['certainexplorationandexcavationmissionsconductedbythearchaeologicaldepartmentinandaroundthekeesaraguttatemplehavebroughttolightanumberofbricktemplescellsandotherstructuresencompassedbybrickprakaramalongwithcoinsbeadsstuccofiguresgarbhapatrapotteryandbrahmilabelinscriptionsdatabletothandthcenturiesce',\n",
              " 'ontopofoneoftherockcutcavesanearlytelugulabelinscriptionreadingasthulachuvanrucanbenoticed',\n",
              " 'onthebasisofpalaeographytheinscriptionisdatedaroundthethtothcenturiesce',\n",
              " 'oneofthefirstwordsinthetelugulanguagenagabuwasfoundinasanskritinscriptionofthestcenturybceatamaravathinottobeconfusedwiththenewlyplannedcityofamaravati',\n",
              " 'teluguwordswerealsofoundinthedharmasilainscriptionofemperorashoka',\n",
              " 'anumberofteluguwordswerefoundinthesanskritandprakritinscriptionsofthesatavahanasvishnukundinasandikshwakas',\n",
              " 'accordingtoteluguloreitsgrammarhasaprehistoricpast',\n",
              " 'sagekanvawassaidtobethelanguagesfirstgrammarian',\n",
              " 'arajeswarasarmadiscussedthehistoricityandcontentofkanvasgrammar',\n",
              " 'hecitedtwentygrammaticalaphorismsascribedtokanvaandconcludedthatkanvawroteanancienttelugugrammarwhichwaslost',\n",
              " 'telugutallibommastatueofmotherteluguthepersonificationoftelugulanguageinandhrapradesh',\n",
              " 'thebhattiprolustonebuddhistcasketinprototelugubelongstobcetheerragudiasokanrockedictinprototelugubelongstobcedcsarkarsashokanstudiescalcuttapagestheghantasalabrahmininscriptionandthepillarinscriptionofvijayasatakarnivijayapurinagarjunakondaetcbelongstofirstcenturyce',\n",
              " 'furthertummalagudeminscriptionofvishnukundinasbelongstothcenturyce',\n",
              " 'epigraphiaandhrikavoliipagesto',\n",
              " '']"
            ]
          },
          "metadata": {},
          "execution_count": 41
        }
      ]
    },
    {
      "cell_type": "code",
      "metadata": {
        "id": "DrWkINchYkko"
      },
      "source": [
        "from sklearn.feature_extraction.text import TfidfVectorizer"
      ],
      "execution_count": null,
      "outputs": []
    },
    {
      "cell_type": "code",
      "metadata": {
        "id": "1ev9Zdo5ZPiN"
      },
      "source": [
        "cv = TfidfVectorizer()"
      ],
      "execution_count": null,
      "outputs": []
    },
    {
      "cell_type": "code",
      "metadata": {
        "id": "JjkUCfWlZZjA"
      },
      "source": [
        "X = cv.fit_transform(corpus).toarray()"
      ],
      "execution_count": null,
      "outputs": []
    },
    {
      "cell_type": "code",
      "metadata": {
        "colab": {
          "base_uri": "https://localhost:8080/"
        },
        "id": "thr_z0r9Z_za",
        "outputId": "a7489cc1-1e50-4a37-9395-55407e4fc39b"
      },
      "source": [
        "X"
      ],
      "execution_count": null,
      "outputs": [
        {
          "output_type": "execute_result",
          "data": {
            "text/plain": [
              "array([[0., 0., 0., 1., 0., 0., 0., 0., 0., 0., 0., 0., 0., 0.],\n",
              "       [0., 0., 0., 0., 0., 0., 0., 0., 0., 1., 0., 0., 0., 0.],\n",
              "       [0., 0., 0., 0., 0., 0., 0., 0., 1., 0., 0., 0., 0., 0.],\n",
              "       [0., 0., 0., 0., 0., 0., 0., 1., 0., 0., 0., 0., 0., 0.],\n",
              "       [0., 0., 0., 0., 0., 0., 0., 0., 0., 0., 0., 0., 1., 0.],\n",
              "       [0., 1., 0., 0., 0., 0., 0., 0., 0., 0., 0., 0., 0., 0.],\n",
              "       [1., 0., 0., 0., 0., 0., 0., 0., 0., 0., 0., 0., 0., 0.],\n",
              "       [0., 0., 0., 0., 0., 0., 0., 0., 0., 0., 1., 0., 0., 0.],\n",
              "       [0., 0., 1., 0., 0., 0., 0., 0., 0., 0., 0., 0., 0., 0.],\n",
              "       [0., 0., 0., 0., 0., 0., 1., 0., 0., 0., 0., 0., 0., 0.],\n",
              "       [0., 0., 0., 0., 0., 0., 0., 0., 0., 0., 0., 1., 0., 0.],\n",
              "       [0., 0., 0., 0., 0., 0., 0., 0., 0., 0., 0., 0., 0., 1.],\n",
              "       [0., 0., 0., 0., 0., 1., 0., 0., 0., 0., 0., 0., 0., 0.],\n",
              "       [0., 0., 0., 0., 1., 0., 0., 0., 0., 0., 0., 0., 0., 0.],\n",
              "       [0., 0., 0., 0., 0., 0., 0., 0., 0., 0., 0., 0., 0., 0.]])"
            ]
          },
          "metadata": {},
          "execution_count": 54
        }
      ]
    }
  ]
}