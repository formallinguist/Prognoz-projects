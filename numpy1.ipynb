{
  "nbformat": 4,
  "nbformat_minor": 0,
  "metadata": {
    "colab": {
      "name": "numpy1.ipynb",
      "provenance": [],
      "collapsed_sections": [],
      "authorship_tag": "ABX9TyO+RhQqs+fMotSM10WJ9yHf",
      "include_colab_link": true
    },
    "kernelspec": {
      "name": "python3",
      "display_name": "Python 3"
    },
    "language_info": {
      "name": "python"
    }
  },
  "cells": [
    {
      "cell_type": "markdown",
      "metadata": {
        "id": "view-in-github",
        "colab_type": "text"
      },
      "source": [
        "<a href=\"https://colab.research.google.com/github/formallinguist/formallinguist/blob/main/numpy1.ipynb\" target=\"_parent\"><img src=\"https://colab.research.google.com/assets/colab-badge.svg\" alt=\"Open In Colab\"/></a>"
      ]
    },
    {
      "cell_type": "markdown",
      "metadata": {
        "id": "iefooeXwDYgS"
      },
      "source": [
        "numpy is a built in module, it stands for numerical python."
      ]
    },
    {
      "cell_type": "code",
      "metadata": {
        "id": "xwmOsSP68Trd"
      },
      "source": [
        "import numpy as np"
      ],
      "execution_count": null,
      "outputs": []
    },
    {
      "cell_type": "code",
      "metadata": {
        "id": "tewQwbKD9oxf"
      },
      "source": [
        "a = [12,13,29,38,37]"
      ],
      "execution_count": null,
      "outputs": []
    },
    {
      "cell_type": "code",
      "metadata": {
        "colab": {
          "base_uri": "https://localhost:8080/"
        },
        "id": "MB0D5YAwEJ25",
        "outputId": "b3771f7d-14d0-43f5-db02-a60945c4634a"
      },
      "source": [
        "type(a)"
      ],
      "execution_count": null,
      "outputs": [
        {
          "output_type": "execute_result",
          "data": {
            "text/plain": [
              "list"
            ]
          },
          "metadata": {},
          "execution_count": 8
        }
      ]
    },
    {
      "cell_type": "code",
      "metadata": {
        "id": "slZj6v-XENCO"
      },
      "source": [
        "arr=np.array(a)"
      ],
      "execution_count": null,
      "outputs": []
    },
    {
      "cell_type": "code",
      "metadata": {
        "colab": {
          "base_uri": "https://localhost:8080/"
        },
        "id": "_kTjzKTyEVHw",
        "outputId": "70fa1722-b6c1-4dda-a88a-2db1c0a33e23"
      },
      "source": [
        "print (arr)"
      ],
      "execution_count": null,
      "outputs": [
        {
          "output_type": "stream",
          "name": "stdout",
          "text": [
            "[12 13 29 38 37]\n"
          ]
        }
      ]
    },
    {
      "cell_type": "markdown",
      "metadata": {
        "id": "I0TJZDc6FG-a"
      },
      "source": [
        ""
      ]
    },
    {
      "cell_type": "markdown",
      "metadata": {
        "id": "3rGuUU8ZFJR2"
      },
      "source": [
        "nd= numerical dimension"
      ]
    },
    {
      "cell_type": "code",
      "metadata": {
        "colab": {
          "base_uri": "https://localhost:8080/"
        },
        "id": "X_F1Q--cEkP4",
        "outputId": "5e586930-f63e-4022-e09c-77e59f5bb3ed"
      },
      "source": [
        "type(arr)   # here n is one dimension"
      ],
      "execution_count": null,
      "outputs": [
        {
          "output_type": "execute_result",
          "data": {
            "text/plain": [
              "numpy.ndarray"
            ]
          },
          "metadata": {},
          "execution_count": 15
        }
      ]
    },
    {
      "cell_type": "markdown",
      "metadata": {
        "id": "clzO6yuLGvT5"
      },
      "source": [
        "multi nested array"
      ]
    },
    {
      "cell_type": "code",
      "metadata": {
        "id": "8XRELn9yFQDu"
      },
      "source": [
        ""
      ],
      "execution_count": null,
      "outputs": []
    },
    {
      "cell_type": "code",
      "metadata": {
        "id": "b921UnZ7G5dz"
      },
      "source": [
        "a1 = [12,13,29,38,3]\n",
        "a2 = [14,17,24,8,7]\n",
        "a4 = [11,14,27,3,87]\n",
        "a7 = [18,19,28,88,77]"
      ],
      "execution_count": null,
      "outputs": []
    },
    {
      "cell_type": "code",
      "metadata": {
        "id": "FQUFh1haILt3"
      },
      "source": [
        "b=np.array([a1,a2,a4,a7])\n"
      ],
      "execution_count": null,
      "outputs": []
    },
    {
      "cell_type": "code",
      "metadata": {
        "colab": {
          "base_uri": "https://localhost:8080/"
        },
        "id": "ccNo-4DZIuYy",
        "outputId": "c74c81c8-8651-42f5-97cb-a1a3675f1018"
      },
      "source": [
        "print(b)"
      ],
      "execution_count": null,
      "outputs": [
        {
          "output_type": "stream",
          "name": "stdout",
          "text": [
            "[[12 13 29 38  3]\n",
            " [14 17 24  8  7]\n",
            " [11 14 27  3 87]\n",
            " [18 19 28 88 77]]\n"
          ]
        }
      ]
    },
    {
      "cell_type": "markdown",
      "metadata": {
        "id": "RPeWAmG3JoRz"
      },
      "source": [
        ".shape gives us number of rows and coloumns"
      ]
    },
    {
      "cell_type": "code",
      "metadata": {
        "colab": {
          "base_uri": "https://localhost:8080/"
        },
        "id": "iXyxoBRFI9Ry",
        "outputId": "5b14fc43-86e5-47a9-e423-5a5730f264ef"
      },
      "source": [
        "b.shape"
      ],
      "execution_count": null,
      "outputs": [
        {
          "output_type": "execute_result",
          "data": {
            "text/plain": [
              "(4, 5)"
            ]
          },
          "metadata": {},
          "execution_count": 25
        }
      ]
    },
    {
      "cell_type": "markdown",
      "metadata": {
        "id": "7lexUOBNKeZx"
      },
      "source": [
        ".reshape"
      ]
    },
    {
      "cell_type": "code",
      "metadata": {
        "colab": {
          "base_uri": "https://localhost:8080/"
        },
        "id": "5qgb_owSKciy",
        "outputId": "41b01f2d-ae37-4c81-b25b-4ff5d2126a30"
      },
      "source": [
        "b.reshape(2,10)"
      ],
      "execution_count": null,
      "outputs": [
        {
          "output_type": "execute_result",
          "data": {
            "text/plain": [
              "array([[12, 13, 29, 38,  3, 14, 17, 24,  8,  7],\n",
              "       [11, 14, 27,  3, 87, 18, 19, 28, 88, 77]])"
            ]
          },
          "metadata": {},
          "execution_count": 29
        }
      ]
    },
    {
      "cell_type": "markdown",
      "metadata": {
        "id": "QU42WIQdLoE6"
      },
      "source": [
        "indexing and slicing. in indexing we get one element at a time where as in slicing we get multiple elements at a time.\n",
        "\n",
        "indexing and slicing in 2 dimensional array"
      ]
    },
    {
      "cell_type": "code",
      "metadata": {
        "colab": {
          "base_uri": "https://localhost:8080/"
        },
        "id": "CcbczgeEMqGX",
        "outputId": "21bed3a1-79a1-456a-9ed8-96c775b4355f"
      },
      "source": [
        "print(b)"
      ],
      "execution_count": null,
      "outputs": [
        {
          "output_type": "stream",
          "name": "stdout",
          "text": [
            "[[12 13 29 38  3]\n",
            " [14 17 24  8  7]\n",
            " [11 14 27  3 87]\n",
            " [18 19 28 88 77]]\n"
          ]
        }
      ]
    },
    {
      "cell_type": "markdown",
      "metadata": {
        "id": "1ZBPdPHZM4fm"
      },
      "source": [
        "slicing"
      ]
    },
    {
      "cell_type": "code",
      "metadata": {
        "colab": {
          "base_uri": "https://localhost:8080/"
        },
        "id": "8OK--l6JM4EP",
        "outputId": "93dbf502-5227-4992-d303-128f2135ef49"
      },
      "source": [
        "b[1: ,3:]"
      ],
      "execution_count": null,
      "outputs": [
        {
          "output_type": "execute_result",
          "data": {
            "text/plain": [
              "array([[ 8,  7],\n",
              "       [ 3, 87],\n",
              "       [88, 77]])"
            ]
          },
          "metadata": {},
          "execution_count": 33
        }
      ]
    },
    {
      "cell_type": "code",
      "metadata": {
        "id": "WGBZqTmdMx-W"
      },
      "source": [
        ""
      ],
      "execution_count": null,
      "outputs": []
    }
  ]
}